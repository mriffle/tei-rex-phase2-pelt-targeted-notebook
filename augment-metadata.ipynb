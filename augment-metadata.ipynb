{
 "cells": [
  {
   "cell_type": "code",
   "execution_count": 15,
   "id": "4cade19d-a919-4dc6-bd9c-86d4719f5881",
   "metadata": {},
   "outputs": [],
   "source": [
    "orig_metadata_fname = \"data\\\\metadata_wide_tic.tsv\"\n",
    "update_metadata_fname = \"data\\\\TEI-REX_UW-Phase2a-Manifest_transmit_20241203-genn.csv\"\n",
    "output_metadata_fname = \"data\\\\augmented-metadata_wide_tic.tsv\""
   ]
  },
  {
   "cell_type": "code",
   "execution_count": 16,
   "id": "d8b31efd-bad3-417f-b04a-b303734f96ae",
   "metadata": {},
   "outputs": [
    {
     "name": "stdout",
     "output_type": "stream",
     "text": [
      "orig metadata shape (288, 20)\n",
      "update metadata shape (944, 29)\n"
     ]
    }
   ],
   "source": [
    "import pandas as pd\n",
    "\n",
    "orig_metadata = pd.read_csv(orig_metadata_fname, sep='\\t', na_values=['na'])\n",
    "update_metadata = pd.read_csv(update_metadata_fname, na_values=[''])\n",
    "\n",
    "print('orig metadata shape', orig_metadata.shape)\n",
    "print('update metadata shape', update_metadata.shape)"
   ]
  },
  {
   "cell_type": "code",
   "execution_count": 17,
   "id": "14db414d-b895-44b1-bda9-2844479426f0",
   "metadata": {},
   "outputs": [],
   "source": [
    "def merge_metadata(orig_metadata: pd.DataFrame, update_metadata: pd.DataFrame) -> pd.DataFrame:\n",
    "\n",
    "    # Perform a left join to keep all rows from orig_metadata\n",
    "    merged_df = orig_metadata.merge(update_metadata[['UW_Sample_ID', 'Radiation Dose(cGy)', 'batch', 'Radiation Date', 'daysaftertreatment']], \n",
    "                                    left_on='UW_Sample_ID', \n",
    "                                    right_on='UW_Sample_ID', \n",
    "                                    how='left')\n",
    "    \n",
    "    # Drop the redundant 'Replicate' column from update_metadata\n",
    "    # merged_df.drop(columns=['Replicate'], inplace=True)\n",
    "    \n",
    "    return merged_df"
   ]
  },
  {
   "cell_type": "code",
   "execution_count": 18,
   "id": "940de175-e644-4a81-9519-75aac2c79b8d",
   "metadata": {},
   "outputs": [
    {
     "name": "stdout",
     "output_type": "stream",
     "text": [
      "augmented_metadata shape (288, 24)\n"
     ]
    }
   ],
   "source": [
    "augmented_metadata = merge_metadata(orig_metadata, update_metadata)\n",
    "print('augmented_metadata shape', augmented_metadata.shape)\n"
   ]
  },
  {
   "cell_type": "code",
   "execution_count": 19,
   "id": "26d390bd-a3a8-491e-a8cb-9f6f8b94867c",
   "metadata": {},
   "outputs": [],
   "source": [
    "augmented_metadata.to_csv(output_metadata_fname, sep=\"\\t\", index=False)"
   ]
  }
 ],
 "metadata": {
  "kernelspec": {
   "display_name": "Python 3 (ipykernel)",
   "language": "python",
   "name": "python3"
  },
  "language_info": {
   "codemirror_mode": {
    "name": "ipython",
    "version": 3
   },
   "file_extension": ".py",
   "mimetype": "text/x-python",
   "name": "python",
   "nbconvert_exporter": "python",
   "pygments_lexer": "ipython3",
   "version": "3.11.9"
  }
 },
 "nbformat": 4,
 "nbformat_minor": 5
}
