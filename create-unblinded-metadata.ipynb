{
 "cells": [
  {
   "cell_type": "code",
   "execution_count": 1,
   "id": "4cade19d-a919-4dc6-bd9c-86d4719f5881",
   "metadata": {},
   "outputs": [],
   "source": [
    "orig_metadata_fname = \"data\\\\augmented-metadata_wide_tic.tsv\"\n",
    "update_metadata_fname = \"data\\\\UW_UW-Phase-2a-Performer-Submission_1.0_UW-UW-Phase-2a-Performer-Submission-SUB1218_sample-level.csv\"\n",
    "output_metadata_fname = \"data\\\\unblinded-augmented-metadata_wide_tic.tsv\""
   ]
  },
  {
   "cell_type": "code",
   "execution_count": 2,
   "id": "d8b31efd-bad3-417f-b04a-b303734f96ae",
   "metadata": {},
   "outputs": [
    {
     "name": "stdout",
     "output_type": "stream",
     "text": [
      "orig metadata shape (288, 24)\n",
      "update metadata shape (576, 23)\n"
     ]
    }
   ],
   "source": [
    "import pandas as pd\n",
    "\n",
    "orig_metadata = pd.read_csv(orig_metadata_fname, sep='\\t', na_values=['na'])\n",
    "update_metadata = pd.read_csv(update_metadata_fname, na_values=[''])\n",
    "\n",
    "print('orig metadata shape', orig_metadata.shape)\n",
    "print('update metadata shape', update_metadata.shape)"
   ]
  },
  {
   "cell_type": "code",
   "execution_count": 3,
   "id": "14db414d-b895-44b1-bda9-2844479426f0",
   "metadata": {},
   "outputs": [],
   "source": [
    "def merge_metadata(orig_metadata: pd.DataFrame, update_metadata: pd.DataFrame) -> pd.DataFrame:\n",
    "    # Get the columns that will be merged from the update_metadata\n",
    "    update_cols = ['sample', 'Is Irradiated?', 'Radiation Dose(cGy)', 'daysaftertreatment', 'Dose Rate']\n",
    "    \n",
    "    # Ensure we only use columns that actually exist in the update_metadata\n",
    "    available_update_cols = [col for col in update_cols if col in update_metadata.columns]\n",
    "    \n",
    "    # Perform a left join to keep all rows from orig_metadata\n",
    "    merged_df = orig_metadata.merge(\n",
    "        update_metadata[available_update_cols],\n",
    "        left_on='TRA_number', \n",
    "        right_on='sample', \n",
    "        how='left'\n",
    "        # No suffixes specified, so pandas will use default \"_x\" and \"_y\"\n",
    "    )\n",
    "    \n",
    "    # Get columns that ended up with \"_x\" and \"_y\" suffixes\n",
    "    x_cols = [col for col in merged_df.columns if col.endswith('_x')]\n",
    "    base_cols = [col[:-2] for col in x_cols]  # Remove the \"_x\" suffix\n",
    "    \n",
    "    # Handle potentially overlapping columns\n",
    "    for base_col in base_cols:\n",
    "        x_col = f\"{base_col}_x\"\n",
    "        y_col = f\"{base_col}_y\"\n",
    "        \n",
    "        # Special handling for daysaftertreatment column\n",
    "        if base_col == 'daysaftertreatment':\n",
    "            # Create temporary clean columns for comparison\n",
    "            x_clean = merged_df[x_col].copy()\n",
    "            y_clean = merged_df[y_col].copy()\n",
    "            \n",
    "            # Clean y column - remove \" days\" suffix if it exists and convert to numeric\n",
    "            y_clean = y_clean.astype(str).str.replace(' days', '', regex=False).replace('', float('nan')).astype(float)\n",
    "            \n",
    "            # Convert x column to numeric if it's not already\n",
    "            if pd.api.types.is_numeric_dtype(x_clean):\n",
    "                x_clean = x_clean.astype(float)\n",
    "            else:\n",
    "                x_clean = x_clean.astype(str).str.replace(' days', '', regex=False).replace('', float('nan')).astype(float)\n",
    "            \n",
    "            # Check if values match where both exist and are not null\n",
    "            mask = ~x_clean.isna() & ~y_clean.isna()\n",
    "            if mask.any() and not (x_clean[mask] == y_clean[mask]).all():\n",
    "                mismatched = pd.DataFrame({\n",
    "                    x_col: merged_df.loc[mask, x_col],\n",
    "                    y_col: merged_df.loc[mask, y_col],\n",
    "                    'x_clean': x_clean[mask],\n",
    "                    'y_clean': y_clean[mask]\n",
    "                })\n",
    "                mismatched = mismatched[x_clean[mask] != y_clean[mask]]\n",
    "                raise ValueError(f\"Mismatched values found in column '{base_col}':\\n{mismatched}\")\n",
    "            \n",
    "            # Create merged column as integer where possible\n",
    "            merged_df[base_col] = y_clean.fillna(x_clean).astype('Int64')  # Use nullable integer type\n",
    "            \n",
    "        else:\n",
    "            # Standard handling for other columns\n",
    "            # Check if values match where both exist and are not null\n",
    "            mask = ~merged_df[x_col].isna() & ~merged_df[y_col].isna()\n",
    "            if mask.any() and not (merged_df.loc[mask, x_col] == merged_df.loc[mask, y_col]).all():\n",
    "                mismatched = merged_df.loc[mask & (merged_df[x_col] != merged_df[y_col])]\n",
    "                raise ValueError(f\"Mismatched values found in column '{base_col}':\\n{mismatched[[x_col, y_col]]}\")\n",
    "            \n",
    "            # Create merged column - take update value (y) if available, otherwise keep original (x)\n",
    "            merged_df[base_col] = merged_df[y_col].fillna(merged_df[x_col])\n",
    "        \n",
    "        # Drop the duplicate columns\n",
    "        merged_df = merged_df.drop(columns=[x_col, y_col])\n",
    "    \n",
    "    # Drop the redundant 'sample' column from update_metadata\n",
    "    if 'sample' in merged_df.columns:\n",
    "        merged_df = merged_df.drop(columns=['sample'])\n",
    "    \n",
    "    return merged_df"
   ]
  },
  {
   "cell_type": "code",
   "execution_count": 4,
   "id": "940de175-e644-4a81-9519-75aac2c79b8d",
   "metadata": {},
   "outputs": [
    {
     "name": "stdout",
     "output_type": "stream",
     "text": [
      "augmented_metadata shape (288, 26)\n"
     ]
    }
   ],
   "source": [
    "augmented_metadata = merge_metadata(orig_metadata, update_metadata)\n",
    "print('augmented_metadata shape', augmented_metadata.shape)\n"
   ]
  },
  {
   "cell_type": "code",
   "execution_count": 5,
   "id": "26d390bd-a3a8-491e-a8cb-9f6f8b94867c",
   "metadata": {},
   "outputs": [],
   "source": [
    "augmented_metadata.to_csv(output_metadata_fname, sep=\"\\t\", index=False)"
   ]
  }
 ],
 "metadata": {
  "kernelspec": {
   "display_name": "Python 3 (ipykernel)",
   "language": "python",
   "name": "python3"
  },
  "language_info": {
   "codemirror_mode": {
    "name": "ipython",
    "version": 3
   },
   "file_extension": ".py",
   "mimetype": "text/x-python",
   "name": "python",
   "nbconvert_exporter": "python",
   "pygments_lexer": "ipython3",
   "version": "3.11.5"
  }
 },
 "nbformat": 4,
 "nbformat_minor": 5
}
